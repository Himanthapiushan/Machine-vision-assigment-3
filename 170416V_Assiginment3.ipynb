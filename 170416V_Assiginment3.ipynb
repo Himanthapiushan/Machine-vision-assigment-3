{
  "nbformat": 4,
  "nbformat_minor": 0,
  "metadata": {
    "colab": {
      "name": "170416V_Assiginment3.ipynb",
      "provenance": [],
      "toc_visible": true,
      "authorship_tag": "ABX9TyMzQyrwpbQxPITbYQ5QB3cK",
      "include_colab_link": true
    },
    "kernelspec": {
      "name": "python3",
      "display_name": "Python 3"
    },
    "language_info": {
      "name": "python"
    }
  },
  "cells": [
    {
      "cell_type": "markdown",
      "metadata": {
        "id": "view-in-github",
        "colab_type": "text"
      },
      "source": [
        "<a href=\"https://colab.research.google.com/github/Himanthapiushan/Machine-vision-assigment-3/blob/main/170416V_Assiginment3.ipynb\" target=\"_parent\"><img src=\"https://colab.research.google.com/assets/colab-badge.svg\" alt=\"Open In Colab\"/></a>"
      ]
    },
    {
      "cell_type": "code",
      "execution_count": null,
      "metadata": {
        "id": "DHPXZcwQSRcJ"
      },
      "outputs": [],
      "source": [
        "import numpy as np\n",
        "from typing import Tuple\n",
        "from sklearn.linear_model import LinearRegression\n",
        "from sklearn.metrics import mean_squared_error\n",
        "from matplotlib import pyplot as plt"
      ]
    },
    {
      "cell_type": "markdown",
      "source": [
        "## **Part (a)**"
      ],
      "metadata": {
        "id": "qrAcU8CXKh4o"
      }
    },
    {
      "cell_type": "code",
      "source": [
        "#part a\n",
        "def load_dataset(src_dir: str) -> Tuple[np.ndarray, np.ndarray, np.ndarray, np.ndarray, np.ndarray]:\n",
        "  x_train=np.loadtxt(src_dir+\"/x_train.txt\")\n",
        "  y_train=np.loadtxt(src_dir+\"/y_train.txt\")\n",
        "  x_val=np.loadtxt(src_dir+\"/x_val.txt\")\n",
        "  y_val=np.loadtxt(src_dir+\"/y_val.txt\")\n",
        "  x_test=np.loadtxt(src_dir+\"/x_test.txt\")\n",
        "  return tuple([x_train,y_train,x_val,y_val,x_test])\n",
        "  \n"
      ],
      "metadata": {
        "id": "UPBwVfHAUaSF"
      },
      "execution_count": null,
      "outputs": []
    },
    {
      "cell_type": "code",
      "source": [
        "[x_train,y_train,x_val,y_val,x_test]=load_dataset(\"/content/Data\")"
      ],
      "metadata": {
        "id": "aKn4zMEGcJ_r"
      },
      "execution_count": null,
      "outputs": []
    },
    {
      "cell_type": "code",
      "source": [
        "plt.scatter(x_train,y_train,label='train_data')\n",
        "plt.scatter(x_val,y_val,label='validation_data')\n",
        "plt.xlabel=('x')\n",
        "plt.ylabel=('y')\n",
        "plt.legend()"
      ],
      "metadata": {
        "colab": {
          "base_uri": "https://localhost:8080/",
          "height": 282
        },
        "id": "gYpNzbbc78bb",
        "outputId": "57b37aa6-9087-4794-bf5c-da7eb136046e"
      },
      "execution_count": null,
      "outputs": [
        {
          "output_type": "execute_result",
          "data": {
            "text/plain": [
              "<matplotlib.legend.Legend at 0x7f83e120bb10>"
            ]
          },
          "metadata": {},
          "execution_count": 10
        },
        {
          "output_type": "display_data",
          "data": {
            "image/png": "[encoded data removed]",
            "text/plain": [
              "<Figure size 432x288 with 1 Axes>"
            ]
          },
          "metadata": {
            "needs_background": "light"
          }
        }
      ]
    },
    {
      "cell_type": "code",
      "source": [
        "x_train.shape"
      ],
      "metadata": {
        "colab": {
          "base_uri": "https://localhost:8080/"
        },
        "id": "iBgcdnXI-Mdl",
        "outputId": "761900ca-8a6f-4635-92cf-86d37a8ac547"
      },
      "execution_count": null,
      "outputs": [
        {
          "output_type": "execute_result",
          "data": {
            "text/plain": [
              "(25,)"
            ]
          },
          "metadata": {},
          "execution_count": 12
        }
      ]
    },
    {
      "cell_type": "markdown",
      "source": [
        "## **Part(b)- i**"
      ],
      "metadata": {
        "id": "t6KNKneKKrtX"
      }
    },
    {
      "cell_type": "code",
      "source": [
        "#part(b)-i\n",
        "def get_features(x: np.ndarray, n: int) -> np.ndarray:\n",
        "  feature_matrix=np.zeros([x.shape[0],n])\n",
        "  for j in range(n):\n",
        "    feature_matrix[:,j]=np.power(x,j+1)\n",
        "  return feature_matrix"
      ],
      "metadata": {
        "id": "ShIx09OkkreI"
      },
      "execution_count": null,
      "outputs": []
    },
    {
      "cell_type": "code",
      "source": [
        "from numpy.ma.core import shape\n",
        "u=get_features(x_train,3)\n",
        "u.shape\n",
        "u"
      ],
      "metadata": {
        "colab": {
          "base_uri": "https://localhost:8080/"
        },
        "id": "UIH6lQ5hnzqR",
        "outputId": "d4c27bf3-fa0f-4bcb-c91c-4723abc6dc35"
      },
      "execution_count": null,
      "outputs": [
        {
          "output_type": "execute_result",
          "data": {
            "text/plain": [
              "array([[5.18837575e-01, 2.69192429e-01, 1.39667147e-01],\n",
              "       [1.69344230e-01, 2.86774682e-02, 4.85636376e-03],\n",
              "       [9.38726014e-01, 8.81206529e-01, 8.27211492e-01],\n",
              "       [3.26641536e-01, 1.06694693e-01, 3.48509183e-02],\n",
              "       [5.76482392e-01, 3.32331948e-01, 1.91583516e-01],\n",
              "       [3.37008789e-02, 1.13574924e-03, 3.82757475e-05],\n",
              "       [5.22772733e-01, 2.73291330e-01, 1.42869256e-01],\n",
              "       [2.57017338e-01, 6.60579120e-02, 1.69780287e-02],\n",
              "       [6.89956328e-01, 4.76039735e-01, 3.28446628e-01],\n",
              "       [4.74013040e-02, 2.24688362e-03, 1.06505213e-04],\n",
              "       [7.00210524e-01, 4.90294778e-01, 3.43309563e-01],\n",
              "       [8.38439242e-01, 7.02980362e-01, 5.89406322e-01],\n",
              "       [5.22936698e-01, 2.73462790e-01, 1.43003729e-01],\n",
              "       [5.46433927e-01, 2.98590037e-01, 1.63159726e-01],\n",
              "       [6.73018365e-01, 4.52953720e-01, 3.04846172e-01],\n",
              "       [6.57228310e-01, 4.31949051e-01, 2.83889145e-01],\n",
              "       [1.51906865e-01, 2.30756956e-02, 3.50535657e-03],\n",
              "       [3.63548373e-01, 1.32167419e-01, 4.80492502e-02],\n",
              "       [6.69200345e-01, 4.47829102e-01, 2.99687389e-01],\n",
              "       [6.87267520e-01, 4.72336644e-01, 3.24621634e-01],\n",
              "       [1.75247374e-01, 3.07116422e-02, 5.38213465e-03],\n",
              "       [6.29553799e-02, 3.96337986e-03, 2.49516085e-04],\n",
              "       [2.45495380e-02, 6.02679817e-04, 1.47955111e-05],\n",
              "       [4.64192478e-01, 2.15474657e-01, 1.00021715e-01],\n",
              "       [6.08764151e-01, 3.70593792e-01, 2.25604215e-01]])"
            ]
          },
          "metadata": {},
          "execution_count": 13
        }
      ]
    },
    {
      "cell_type": "code",
      "source": [
        "feature_matrix=np.zeros([4,5])\n",
        "\n",
        "feature_matrix[:,2]=[1,1,1,1]\n",
        "print(feature_matrix)\n"
      ],
      "metadata": {
        "colab": {
          "base_uri": "https://localhost:8080/"
        },
        "id": "WHKSc_5FSKfa",
        "outputId": "2b9e6814-d08c-4c36-e6fe-47b967568b99"
      },
      "execution_count": null,
      "outputs": [
        {
          "output_type": "stream",
          "name": "stdout",
          "text": [
            "[[0. 0. 1. 0. 0.]\n",
            " [0. 0. 1. 0. 0.]\n",
            " [0. 0. 1. 0. 0.]\n",
            " [0. 0. 1. 0. 0.]]\n"
          ]
        }
      ]
    },
    {
      "cell_type": "markdown",
      "source": [
        "## **Part (b)-ii**"
      ],
      "metadata": {
        "id": "P8EYFpWvK7Am"
      }
    },
    {
      "cell_type": "code",
      "source": [
        "#Part(b)-ii\n",
        "LR=LinearRegression()\n",
        "mse=mean_squared_error"
      ],
      "metadata": {
        "id": "J0L6-oTxEIeR"
      },
      "execution_count": null,
      "outputs": []
    },
    {
      "cell_type": "code",
      "source": [
        "def fit_and_evaluate(x_train: np.ndarray, y_train: np.ndarray,x_val: np.ndarray, y_val: np.ndarray,n: int) -> Tuple[float, float]:\n",
        "   model = LR.fit(get_features(x_train,n), y_train)\n",
        "   y_predict_train = model.predict(get_features(x_train,n))\n",
        "   \n",
        "   train_mse = mse(y_train, y_predict_train)\n",
        "   train_mse_2=np.mean((y_predict_train-y_train)**2)\n",
        "   \n",
        "   print (train_mse)\n",
        "\n",
        "\n",
        "   model = LR.fit(get_features(x_val,n), y_val)\n",
        "   y_predict_val = model.predict(get_features(x_val,n))\n",
        "   val_mse = mse(y_val, y_predict_val)\n",
        "   val_mse_2=np.mean((y_predict_val-y_val)**2)\n",
        "   return train_mse, val_mse,train_mse_2,val_mse_2\n"
      ],
      "metadata": {
        "id": "F239xE59De2U"
      },
      "execution_count": null,
      "outputs": []
    },
    {
      "cell_type": "code",
      "source": [
        "fit_and_evaluate(x_train,y_train,x_val,y_val,10)[1]\n"
      ],
      "metadata": {
        "colab": {
          "base_uri": "https://localhost:8080/"
        },
        "id": "0mQLh-IEIoOZ",
        "outputId": "6dc29caa-dbf6-47b5-ed33-f8f22f05fc5d"
      },
      "execution_count": null,
      "outputs": [
        {
          "output_type": "execute_result",
          "data": {
            "text/plain": [
              "0.0025579346443144585"
            ]
          },
          "metadata": {},
          "execution_count": 32
        }
      ]
    },
    {
      "cell_type": "markdown",
      "source": [
        "## **Part (c)**"
      ],
      "metadata": {
        "id": "SmMOFXRZLTtP"
      }
    },
    {
      "cell_type": "code",
      "source": [
        "#part(c)\n",
        "train_mse_values=[]\n",
        "val_mse_values=[]\n",
        "train_mse_values_2=[]\n",
        "val_mse_values_2=[]\n",
        "for i in range (0,10):\n",
        "  [train_mse,val_mse,train_mse_2,val_mse_2]=fit_and_evaluate(x_train,y_train,x_val,y_val,i+1)\n",
        "  train_mse_values.append(train_mse)\n",
        "  val_mse_values.append(val_mse)\n",
        "  train_mse_values_2.append(train_mse_2)\n",
        "  val_mse_values_2.append(val_mse_2)\n",
        "\n",
        "plt.plot(range(1,11),train_mse_values,label=\"train_mse\")\n",
        "plt.plot(range(1,11),val_mse_values,label='validation_mse')\n",
        "\n",
        "plt.legend()\n",
        "plt.show()\n",
        "\n",
        "\n",
        "\n",
        "plt.plot(range(1,11),train_mse_values_2,label=\"train_mse\")\n",
        "plt.plot(range(1,11),val_mse_values_2,label='validation_mse')\n",
        "\n",
        "plt.legend()\n",
        "plt.show()\n",
        "\n",
        "  \n"
      ],
      "metadata": {
        "colab": {
          "base_uri": "https://localhost:8080/",
          "height": 513
        },
        "id": "cFn27wEiLZ9J",
        "outputId": "e54709dd-285f-4123-edfa-8afe13c5eabf"
      },
      "execution_count": null,
      "outputs": [
        {
          "output_type": "display_data",
          "data": {
            "image/png": "[encoded data removed]",
            "text/plain": [
              "<Figure size 432x288 with 1 Axes>"
            ]
          },
          "metadata": {
            "needs_background": "light"
          }
        },
        {
          "output_type": "display_data",
          "data": {
            "image/png": "[encoded data removed]",
            "text/plain": [
              "<Figure size 432x288 with 1 Axes>"
            ]
          },
          "metadata": {
            "needs_background": "light"
          }
        }
      ]
    },
    {
      "cell_type": "code",
      "source": [
        ""
      ],
      "metadata": {
        "id": "FI5tT_1MC2hg"
      },
      "execution_count": null,
      "outputs": []
    },
    {
      "cell_type": "code",
      "source": [
        "print(train_mse_values.index(min(train_mse_values))+1)\n",
        "print(val_mse_values.index(min(val_mse_values))+1)\n"
      ],
      "metadata": {
        "colab": {
          "base_uri": "https://localhost:8080/"
        },
        "id": "G9GPSc-UWNY1",
        "outputId": "8f09454e-48d0-4cec-e140-65f36daa7bc3"
      },
      "execution_count": null,
      "outputs": [
        {
          "output_type": "stream",
          "name": "stdout",
          "text": [
            "10\n",
            "10\n"
          ]
        }
      ]
    },
    {
      "cell_type": "markdown",
      "source": [
        "### **Part (d)**"
      ],
      "metadata": {
        "id": "OkaqzVXAPf4G"
      }
    },
    {
      "cell_type": "code",
      "source": [
        "#part(b)\n",
        "min_n=10\n",
        "final_model = LR.fit(get_features(x_train,min_n), y_train)\n",
        "y_test = final_model.predict(get_features(x_test,min_n))\n",
        "#print(y_test)\n",
        "text=''\n",
        "for i in range(len(y_test)):\n",
        "  line=y_test[i]\n",
        "  text=text+str(line)+\"\\n\"\n",
        "text_file = open(\"/content/Data/170416V_y_predict_test.txt\", \"w\")\n",
        "n = text_file.write(text)\n",
        "text_file.close()\n",
        "#print(text)\n",
        "plt.scatter(x_test,y_test)\n",
        "plt.xlabel(\"x_test\")\n",
        "plt.ylabel(\"y_test\")\n",
        "plt.show()"
      ],
      "metadata": {
        "colab": {
          "base_uri": "https://localhost:8080/",
          "height": 282
        },
        "id": "YF75D9bpPi8P",
        "outputId": "5416402d-4483-4e58-efa0-f90637a6abdd"
      },
      "execution_count": null,
      "outputs": [
        {
          "output_type": "display_data",
          "data": {
            "image/png": "[encoded data removed]",
            "text/plain": [
              "<Figure size 432x288 with 1 Axes>"
            ]
          },
          "metadata": {
            "needs_background": "light"
          }
        }
      ]
    }
  ]
}